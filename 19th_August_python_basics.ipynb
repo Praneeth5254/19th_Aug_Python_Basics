{
 "cells": [
  {
   "cell_type": "raw",
   "id": "ad2eecdb-f6bf-4fbb-b1b8-23403a7e6213",
   "metadata": {},
   "source": [
    "1. Declare two variables, `x` and `y`, and assign them integer values.\n",
    "Swap the values of these variables without using any temporary\n",
    "variable."
   ]
  },
  {
   "cell_type": "code",
   "execution_count": 1,
   "id": "140b6e24-b900-40ed-a270-6b6f363ece77",
   "metadata": {},
   "outputs": [
    {
     "name": "stdout",
     "output_type": "stream",
     "text": [
      "Before swapping x and y values are 3 and 5 respectively\n",
      "After swapping x and y values are 5 and 3 respectively\n"
     ]
    }
   ],
   "source": [
    "#Answer for above question\n",
    "x=3\n",
    "y=5\n",
    "print(\"Before swapping x and y values are\",x,\"and\",y,\"respectively\")\n",
    "x,y=y,x #Here x values is overwritten by y value and x value is overwritten by y value.\n",
    "print(\"After swapping x and y values are\",x,\"and\",y,\"respectively\")"
   ]
  },
  {
   "cell_type": "raw",
   "id": "b4a1ccf9-6577-4c7d-af39-62bb0647bbca",
   "metadata": {},
   "source": [
    "2. Create a program that calculates the area of a rectangle. Take the\n",
    "length and width as inputs from the user and store them in variables.\n",
    "Calculate and display the area."
   ]
  },
  {
   "cell_type": "code",
   "execution_count": null,
   "id": "d2b05a40-6bf4-40fe-a711-64e9bc309352",
   "metadata": {},
   "outputs": [],
   "source": [
    "# Answer for above question\n",
    "length=eval(input('enter the length: '))\n",
    "width=eval(input('enter the width: '))\n",
    "#Here the eval directly takes as nature of input given by user whether it as a float or int\n",
    "area=length*width #formula for area of rectangle is lengthxwidth\n",
    "print('area of rectangle is: ',area)"
   ]
  },
  {
   "cell_type": "raw",
   "id": "61f52f60-b0a1-4928-958a-d298aeef0933",
   "metadata": {},
   "source": [
    "3. Write a Python program that converts temperature from Celsius to\n",
    "Fahrenheit. Take the temperature in Celsius as input, store it in a\n",
    "variable, convert it to Fahrenheit, and display the result."
   ]
  },
  {
   "cell_type": "code",
   "execution_count": null,
   "id": "4c20b2b9-d390-4a62-9ab0-fe27e4997be4",
   "metadata": {},
   "outputs": [],
   "source": [
    "#Answer for above question\n",
    "c=eval(input('enter the temp in celsius: '))\n",
    "#Here the eval directly takes as nature of input given by user whether it as a float or int\n",
    "F=((c*(9/5))+32)\n",
    "print('The given temp in Fahrenheit is: ',F,'f')"
   ]
  },
  {
   "cell_type": "raw",
   "id": "7067be85-647c-4fef-a42d-1faeee3ca61c",
   "metadata": {},
   "source": [
    "1. Write a Python program that takes a string as input and prints the\n",
    "length of the string."
   ]
  },
  {
   "cell_type": "code",
   "execution_count": null,
   "id": "7dd1cdd4-596c-4e31-8a5a-e85b639473e9",
   "metadata": {},
   "outputs": [],
   "source": [
    "#Answer for above question\n",
    "string=input('enter your string to calculate length: ')\n",
    "print(\"Then length of the given string is: \",len(string))"
   ]
  },
  {
   "cell_type": "raw",
   "id": "22c3d549-56c0-4405-9301-5b68f4b50023",
   "metadata": {},
   "source": [
    "2. Create a program that takes a sentence from the user and counts the\n",
    "number of vowels (a, e, i, o, u) in the string."
   ]
  },
  {
   "cell_type": "code",
   "execution_count": null,
   "id": "1ba324f7-c146-4c3b-9752-3b95018b7f29",
   "metadata": {},
   "outputs": [],
   "source": [
    "#Answer for above question\n",
    "string=input('enter your string: ')\n",
    "l1=['a','e','i','o','u']\n",
    "count=0\n",
    "for i in l1:\n",
    "    if i in string.lower():\n",
    "        count=count+1\n",
    "print('The no. of vowels in the given string are:',count)"
   ]
  },
  {
   "cell_type": "raw",
   "id": "0f22f8a4-a039-4c6f-bf78-aaa9b9bab482",
   "metadata": {},
   "source": [
    "3. Given a string, reverse the order of characters using string slicing and\n",
    "print the reversed string."
   ]
  },
  {
   "cell_type": "code",
   "execution_count": null,
   "id": "184ff672-c584-4e51-895b-e8a03e1fbce9",
   "metadata": {},
   "outputs": [],
   "source": [
    "#Answer for above question\n",
    "k='Praneeth'\n",
    "print(\"Before reversing: \",k)\n",
    "l=k[::-1]\n",
    "print(\"After reversing: \",l)"
   ]
  },
  {
   "cell_type": "raw",
   "id": "489e05c9-b038-48f4-abbb-b6dfde8edaee",
   "metadata": {},
   "source": [
    "4. Write a program that takes a string as input and checks if it is a\n",
    "palindrome (reads the same forwards and backwards)."
   ]
  },
  {
   "cell_type": "code",
   "execution_count": null,
   "id": "a66d5508-c1b8-4acb-afc0-53569ee3902d",
   "metadata": {},
   "outputs": [],
   "source": [
    "#Answer for above question\n",
    "k=input('enter a string: ')\n",
    "l=k[::-1]\n",
    "if k==l:\n",
    "    print('Its a palindrome')\n",
    "else:\n",
    "    print('its not a palidrome')"
   ]
  },
  {
   "cell_type": "raw",
   "id": "1d76086c-9b63-4de9-9e84-2130ff96ee2f",
   "metadata": {},
   "source": [
    "Create a program that takes a string as input and removes all the\n",
    "spaces from it. Print the modified string without spaces."
   ]
  },
  {
   "cell_type": "code",
   "execution_count": null,
   "id": "dd9bb924-a654-459e-95f2-928933842265",
   "metadata": {},
   "outputs": [],
   "source": [
    "#Answer for above question\n",
    "def remove_spaces(string):\n",
    "    modified_string = string.replace(\" \", \"\")\n",
    "    return modified_string\n",
    "\n",
    "string = input(\"Enter a string: \")\n",
    "modified_string = remove_spaces(string)\n",
    "print(\"Modified string without spaces:\", modified_string)"
   ]
  },
  {
   "cell_type": "code",
   "execution_count": null,
   "id": "5e9178ca-4bcb-4b34-88e9-f26a0b9ca036",
   "metadata": {},
   "outputs": [],
   "source": []
  },
  {
   "cell_type": "code",
   "execution_count": null,
   "id": "9d2f8079-0cc5-40b0-8471-c5ba83658d9f",
   "metadata": {},
   "outputs": [],
   "source": []
  }
 ],
 "metadata": {
  "kernelspec": {
   "display_name": "Python 3 (ipykernel)",
   "language": "python",
   "name": "python3"
  },
  "language_info": {
   "codemirror_mode": {
    "name": "ipython",
    "version": 3
   },
   "file_extension": ".py",
   "mimetype": "text/x-python",
   "name": "python",
   "nbconvert_exporter": "python",
   "pygments_lexer": "ipython3",
   "version": "3.10.8"
  }
 },
 "nbformat": 4,
 "nbformat_minor": 5
}
